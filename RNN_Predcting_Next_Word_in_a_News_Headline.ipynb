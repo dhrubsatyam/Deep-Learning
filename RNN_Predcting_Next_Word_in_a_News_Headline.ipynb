{
  "nbformat": 4,
  "nbformat_minor": 0,
  "metadata": {
    "colab": {
      "provenance": []
    },
    "kernelspec": {
      "name": "python3",
      "display_name": "Python 3"
    },
    "language_info": {
      "name": "python"
    }
  },
  "cells": [
    {
      "cell_type": "code",
      "source": [
        "import tensorflow as tf\n",
        "from tensorflow.keras.preprocessing.text import Tokenizer\n",
        "from tensorflow.keras.preprocessing.sequence import pad_sequences\n",
        "from tensorflow.keras.models import Sequential\n",
        "from tensorflow.keras.layers import Embedding, SimpleRNN, Dense\n",
        "import numpy as np\n",
        "import matplotlib.pyplot as plt"
      ],
      "metadata": {
        "id": "sXBT_dy9xo4h"
      },
      "execution_count": 3,
      "outputs": []
    },
    {
      "cell_type": "code",
      "execution_count": 4,
      "metadata": {
        "id": "eqA148q2wLSb"
      },
      "outputs": [],
      "source": [
        "data = [\n",
        "\"india bombed terrorist hideout in pakistan\",\n",
        "\"rcb won the ipl\",\n",
        "\"prime minister inaugurated a new bridge\",\n",
        "\"sensex hits a high after many days\",\n",
        "\"heavy rains flood mimbai streets\",\n",
        "\"india surpasses japan to become fourth largest economy\",\n",
        "\"kashmir witnessed fresh snowfall\",\n",
        "\"ipl stempede killed eleven and left fourty seven injured\"\n",
        "]"
      ]
    },
    {
      "cell_type": "code",
      "source": [
        "# Tokenize the sentence - turn words into numbers\n",
        "\"\"\"\n",
        "rcb won the ipl! => ['rcb', 'won', 'the', 'ipl', '!'] => [1,2,3,4,5]\n",
        "\n",
        "\"\"\"\n",
        "\n",
        "tokenizer = Tokenizer()\n",
        "tokenizer.fit_on_texts(data)\n",
        "total_words = len(tokenizer.word_index) + 1\n",
        "\n",
        "print(total_words)\n"
      ],
      "metadata": {
        "colab": {
          "base_uri": "https://localhost:8080/"
        },
        "id": "RA1QS0ZxxnpI",
        "outputId": "2b8523ba-4d7c-4c7c-d071-1ab3f6b29405"
      },
      "execution_count": 10,
      "outputs": [
        {
          "output_type": "stream",
          "name": "stdout",
          "text": [
            "47\n"
          ]
        }
      ]
    },
    {
      "cell_type": "code",
      "source": [
        "# Create sequence for each line\n",
        "\n",
        "\"\"\"\n",
        "\"kashmir witnessed fresh snowfall\"\n",
        "\n",
        "[1,2]\n",
        "[1,2,3]\n",
        "[1,2,3,4]\n",
        "\n",
        "it helps the model learn how sentences grow.\n",
        "\n",
        "# Creating progressive n grams.\n",
        "\n",
        "\"\"\"\n",
        "\n",
        "input_sequence = []\n",
        "\n",
        "for line in data:\n",
        "\n",
        "  token_list = tokenizer.texts_to_sequences([line])[0]\n",
        "\n",
        "  for i in range(1, len(token_list)):\n",
        "\n",
        "    n_gram_sequence = token_list[:i+1]\n",
        "    input_sequence.append(n_gram_sequence)"
      ],
      "metadata": {
        "id": "s--VXN4yy2xp"
      },
      "execution_count": 12,
      "outputs": []
    },
    {
      "cell_type": "code",
      "source": [
        "# Padding => Making all sequences of equal lengths.\n",
        "\"\"\"\n",
        "Since, NN require inputs to be the same length\n",
        "and hence, we pad shorter sequences with 0s in the beginning to make the length same. (pre-padding)\n",
        "\"\"\"\n",
        "\n",
        "max_sequence_len = max([len(seq) for seq in input_sequence])\n",
        "input_sequences = pad_sequences(input_sequence, maxlen = max_sequence_len, padding = 'pre')"
      ],
      "metadata": {
        "id": "5kq3Dgs30X7v"
      },
      "execution_count": 13,
      "outputs": []
    },
    {
      "cell_type": "code",
      "source": [
        "# SPlit input and O/P\n",
        "\n",
        "X = input_sequences[:,:-1] # taking all words except the last.\n",
        "y = input_sequences[:,-1] # taking alast words as label"
      ],
      "metadata": {
        "id": "huMet97M2dlk"
      },
      "execution_count": 14,
      "outputs": []
    },
    {
      "cell_type": "code",
      "source": [
        "# One hot encode the target variable\n",
        "\"\"\"\n",
        "index 5 => [0,0,0,0,1,0,0,0,0]\n",
        "\n",
        "required for multi class classification\n",
        "\n",
        "\"\"\"\n",
        "\n",
        "y = tf.keras.utils.to_categorical(y, num_classes=total_words)\n",
        "\n"
      ],
      "metadata": {
        "id": "QuaJ9wv34FCK"
      },
      "execution_count": 16,
      "outputs": []
    },
    {
      "cell_type": "code",
      "source": [
        "# Building RNN model\n",
        "\n",
        "model = Sequential([\n",
        "    Embedding(input_dim=total_words, output_dim=10,input_length = max_sequence_len - 1),\n",
        "    SimpleRNN(100),\n",
        "    Dense(total_words, activation='softmax')\n",
        "])"
      ],
      "metadata": {
        "colab": {
          "base_uri": "https://localhost:8080/"
        },
        "id": "NcDDmvps5Pb_",
        "outputId": "4f5ed892-246c-4a23-f8c4-4133cfd3de2a"
      },
      "execution_count": 17,
      "outputs": [
        {
          "output_type": "stream",
          "name": "stderr",
          "text": [
            "/usr/local/lib/python3.11/dist-packages/keras/src/layers/core/embedding.py:90: UserWarning: Argument `input_length` is deprecated. Just remove it.\n",
            "  warnings.warn(\n"
          ]
        }
      ]
    },
    {
      "cell_type": "code",
      "source": [
        "# Compile the model\n",
        "\n",
        "model.compile(optimizer = 'adam', loss = 'categorical_crossentropy', metrics = ['accuracy'])\n",
        "model.summary()"
      ],
      "metadata": {
        "colab": {
          "base_uri": "https://localhost:8080/",
          "height": 232
        },
        "id": "lX5wWYKD6quU",
        "outputId": "95618016-f93a-48c8-f84e-53f49a0de208"
      },
      "execution_count": 18,
      "outputs": [
        {
          "output_type": "display_data",
          "data": {
            "text/plain": [
              "\u001b[1mModel: \"sequential\"\u001b[0m\n"
            ],
            "text/html": [
              "<pre style=\"white-space:pre;overflow-x:auto;line-height:normal;font-family:Menlo,'DejaVu Sans Mono',consolas,'Courier New',monospace\"><span style=\"font-weight: bold\">Model: \"sequential\"</span>\n",
              "</pre>\n"
            ]
          },
          "metadata": {}
        },
        {
          "output_type": "display_data",
          "data": {
            "text/plain": [
              "┏━━━━━━━━━━━━━━━━━━━━━━━━━━━━━━━━━┳━━━━━━━━━━━━━━━━━━━━━━━━┳━━━━━━━━━━━━━━━┓\n",
              "┃\u001b[1m \u001b[0m\u001b[1mLayer (type)                   \u001b[0m\u001b[1m \u001b[0m┃\u001b[1m \u001b[0m\u001b[1mOutput Shape          \u001b[0m\u001b[1m \u001b[0m┃\u001b[1m \u001b[0m\u001b[1m      Param #\u001b[0m\u001b[1m \u001b[0m┃\n",
              "┡━━━━━━━━━━━━━━━━━━━━━━━━━━━━━━━━━╇━━━━━━━━━━━━━━━━━━━━━━━━╇━━━━━━━━━━━━━━━┩\n",
              "│ embedding (\u001b[38;5;33mEmbedding\u001b[0m)           │ ?                      │   \u001b[38;5;34m0\u001b[0m (unbuilt) │\n",
              "├─────────────────────────────────┼────────────────────────┼───────────────┤\n",
              "│ simple_rnn (\u001b[38;5;33mSimpleRNN\u001b[0m)          │ ?                      │   \u001b[38;5;34m0\u001b[0m (unbuilt) │\n",
              "├─────────────────────────────────┼────────────────────────┼───────────────┤\n",
              "│ dense (\u001b[38;5;33mDense\u001b[0m)                   │ ?                      │   \u001b[38;5;34m0\u001b[0m (unbuilt) │\n",
              "└─────────────────────────────────┴────────────────────────┴───────────────┘\n"
            ],
            "text/html": [
              "<pre style=\"white-space:pre;overflow-x:auto;line-height:normal;font-family:Menlo,'DejaVu Sans Mono',consolas,'Courier New',monospace\">┏━━━━━━━━━━━━━━━━━━━━━━━━━━━━━━━━━┳━━━━━━━━━━━━━━━━━━━━━━━━┳━━━━━━━━━━━━━━━┓\n",
              "┃<span style=\"font-weight: bold\"> Layer (type)                    </span>┃<span style=\"font-weight: bold\"> Output Shape           </span>┃<span style=\"font-weight: bold\">       Param # </span>┃\n",
              "┡━━━━━━━━━━━━━━━━━━━━━━━━━━━━━━━━━╇━━━━━━━━━━━━━━━━━━━━━━━━╇━━━━━━━━━━━━━━━┩\n",
              "│ embedding (<span style=\"color: #0087ff; text-decoration-color: #0087ff\">Embedding</span>)           │ ?                      │   <span style=\"color: #00af00; text-decoration-color: #00af00\">0</span> (unbuilt) │\n",
              "├─────────────────────────────────┼────────────────────────┼───────────────┤\n",
              "│ simple_rnn (<span style=\"color: #0087ff; text-decoration-color: #0087ff\">SimpleRNN</span>)          │ ?                      │   <span style=\"color: #00af00; text-decoration-color: #00af00\">0</span> (unbuilt) │\n",
              "├─────────────────────────────────┼────────────────────────┼───────────────┤\n",
              "│ dense (<span style=\"color: #0087ff; text-decoration-color: #0087ff\">Dense</span>)                   │ ?                      │   <span style=\"color: #00af00; text-decoration-color: #00af00\">0</span> (unbuilt) │\n",
              "└─────────────────────────────────┴────────────────────────┴───────────────┘\n",
              "</pre>\n"
            ]
          },
          "metadata": {}
        },
        {
          "output_type": "display_data",
          "data": {
            "text/plain": [
              "\u001b[1m Total params: \u001b[0m\u001b[38;5;34m0\u001b[0m (0.00 B)\n"
            ],
            "text/html": [
              "<pre style=\"white-space:pre;overflow-x:auto;line-height:normal;font-family:Menlo,'DejaVu Sans Mono',consolas,'Courier New',monospace\"><span style=\"font-weight: bold\"> Total params: </span><span style=\"color: #00af00; text-decoration-color: #00af00\">0</span> (0.00 B)\n",
              "</pre>\n"
            ]
          },
          "metadata": {}
        },
        {
          "output_type": "display_data",
          "data": {
            "text/plain": [
              "\u001b[1m Trainable params: \u001b[0m\u001b[38;5;34m0\u001b[0m (0.00 B)\n"
            ],
            "text/html": [
              "<pre style=\"white-space:pre;overflow-x:auto;line-height:normal;font-family:Menlo,'DejaVu Sans Mono',consolas,'Courier New',monospace\"><span style=\"font-weight: bold\"> Trainable params: </span><span style=\"color: #00af00; text-decoration-color: #00af00\">0</span> (0.00 B)\n",
              "</pre>\n"
            ]
          },
          "metadata": {}
        },
        {
          "output_type": "display_data",
          "data": {
            "text/plain": [
              "\u001b[1m Non-trainable params: \u001b[0m\u001b[38;5;34m0\u001b[0m (0.00 B)\n"
            ],
            "text/html": [
              "<pre style=\"white-space:pre;overflow-x:auto;line-height:normal;font-family:Menlo,'DejaVu Sans Mono',consolas,'Courier New',monospace\"><span style=\"font-weight: bold\"> Non-trainable params: </span><span style=\"color: #00af00; text-decoration-color: #00af00\">0</span> (0.00 B)\n",
              "</pre>\n"
            ]
          },
          "metadata": {}
        }
      ]
    },
    {
      "cell_type": "code",
      "source": [
        "# Training the model\n",
        "history = model.fit(X, y, epochs=500, verbose = 0)"
      ],
      "metadata": {
        "id": "VAZ6ZEDv7B4k"
      },
      "execution_count": 24,
      "outputs": []
    },
    {
      "cell_type": "code",
      "source": [
        "seed_text = \"rcb won the\"\n",
        "token_list = tokenizer.texts_to_sequences([seed_text])[0]\n",
        "padded = pad_sequences([token_list])\n",
        "\n",
        "pred = model.predict(padded)\n",
        "predicted_index = np.argmax(pred)\n",
        "\n",
        "predicted_word = \"\"\n",
        "\n",
        "for word, index in tokenizer.word_index.items():\n",
        "\n",
        "  if index == predicted_index:\n",
        "    predicted_word = word\n",
        "\n",
        "    break\n",
        "\n",
        "\n",
        "print(f\"Input: '{seed_text}'. Predicted next word: '{predicted_word}'\")"
      ],
      "metadata": {
        "colab": {
          "base_uri": "https://localhost:8080/"
        },
        "id": "Ke123V_d7ZrW",
        "outputId": "3a85c71a-1065-40fe-d211-56502a2aea95"
      },
      "execution_count": 26,
      "outputs": [
        {
          "output_type": "stream",
          "name": "stdout",
          "text": [
            "\u001b[1m1/1\u001b[0m \u001b[32m━━━━━━━━━━━━━━━━━━━━\u001b[0m\u001b[37m\u001b[0m \u001b[1m0s\u001b[0m 51ms/step\n",
            "Input: 'rcb won the'. Predicted next word: 'ipl'\n"
          ]
        }
      ]
    },
    {
      "cell_type": "code",
      "source": [
        "# Plot training accuracy\n",
        "\n",
        "plt.plot(history.history['accuracy'])\n",
        "plt.title(\"Training Accuracy Plot\")\n",
        "plt.xlabel(\"Epoch\")\n",
        "plt.ylabel(\"Accuracy\")\n",
        "plt.grid(True)\n",
        "plt.show()"
      ],
      "metadata": {
        "colab": {
          "base_uri": "https://localhost:8080/",
          "height": 472
        },
        "id": "I83I3YxY9SAQ",
        "outputId": "5f0d66ed-da86-46d8-aec0-66bb8d2a64d5"
      },
      "execution_count": 28,
      "outputs": [
        {
          "output_type": "display_data",
          "data": {
            "text/plain": [
              "<Figure size 640x480 with 1 Axes>"
            ],
            "image/png": "[encoded data removed]"
          },
          "metadata": {}
        }
      ]
    },
    {
      "cell_type": "markdown",
      "source": [
        "**Prerequisites for NLP:**\n",
        "\n",
        "Python Fundamentals:\n",
        "\n",
        "- Basic Syntax:\n",
        "\n",
        "Understanding variables, data types, control flow (if/else, loops), and functions is crucial for writing any Python code, including NLP programs.\n",
        "\n",
        "- Data Structures:\n",
        "\n",
        "Familiarity with lists, dictionaries, and sets is essential for working with text data and manipulating text features.\n",
        "\n",
        "- Object-Oriented Programming (OOP):\n",
        "\n",
        "While not strictly necessary for all NLP tasks, OOP concepts can make your code more organized and maintainable.\n",
        "\n",
        "\n",
        "Maths:\n",
        "\n",
        "Linear Algebra:\n",
        "- Understanding vectors, matrices, and operations such as addition, multiplication, and transformations is crucial, especially for working with word embeddings and neural networks.\n",
        "Calculus:\n",
        "- Knowledge of derivatives and gradients is important for optimization techniques used in training machine learning models, particularly in gradient descent algorithms.\n",
        "Probability and Statistics:\n",
        "- A strong grasp of probability theory, including concepts like distributions, Bayes' theorem, and conditional probability, is essential for understanding language models and making predictions.\n",
        "- Statistical methods are also important for evaluating model performance (e.g., precision, recall, F1 score).\n",
        "Discrete Mathematics:\n",
        "- Familiarity with concepts from discrete math, such as graphs and combinatorics, can be useful for understanding language structures and algorithms, particularly in parsing and search algorithms.\n",
        "Information Theory:\n",
        "- Concepts like entropy and mutual information help in understanding the efficiency of language models and the information content of text.\n",
        "\n",
        "Deep Learning:\n",
        "\n",
        "Whole class notes + hands on"
      ],
      "metadata": {
        "id": "Qj2IXd3ob5uw"
      }
    },
    {
      "cell_type": "code",
      "source": [],
      "metadata": {
        "id": "YRjfP8DBcKua"
      },
      "execution_count": null,
      "outputs": []
    }
  ]
}
{
 "cells": [
  {
   "cell_type": "code",
   "execution_count": 1,
   "id": "09215c37-80b8-4fd4-8492-e70d4c893231",
   "metadata": {},
   "outputs": [],
   "source": [
    "# pip install nbconvert"
   ]
  },
  {
   "cell_type": "code",
   "execution_count": 3,
   "id": "f939472b-6a38-4dee-a3e1-291e26d669a4",
   "metadata": {},
   "outputs": [],
   "source": [
    "# brew install mactex"
   ]
  },
  {
   "cell_type": "code",
   "execution_count": 5,
   "id": "47a0aee4-0788-4938-ba44-49786486536c",
   "metadata": {},
   "outputs": [],
   "source": [
    "# Step 1: Import libraries we need\n",
    "import pandas as pd  # For handling data tables\n",
    "import numpy as np   # For math operations\n",
    "import tensorflow as tf  # For building the neural network\n",
    "from sklearn.model_selection import train_test_split  # To split data into training and testing\n",
    "from sklearn.preprocessing import StandardScaler  # To scale numbers\n",
    "import matplotlib.pyplot as plt  # For plotting graphs"
   ]
  },
  {
   "cell_type": "code",
   "execution_count": 6,
   "id": "d5d2f49e-40b7-46b5-b390-14267dde2945",
   "metadata": {},
   "outputs": [],
   "source": [
    "# Step 2: Load the dataset\n",
    "# The CSV file has customer data; we load it into a table called a DataFrame\n",
    "df = pd.read_csv(\"Churn_Modelling.csv\")\n",
    "\n",
    "# Step 3: Remove columns we don't need\n",
    "# Columns like RowNumber, CustomerId, and Surname are not useful for prediction\n",
    "df = df.drop(['RowNumber', 'CustomerId', 'Surname'], axis=1)\n",
    "\n",
    "# Step 4: Convert categories to numbers\n",
    "# Geography (e.g., France, Germany) and Gender (Male, Female) are text; we convert them to numbers\n",
    "# We use numbers (0, 1, 2) to represent categories\n",
    "df['Geography'] = df['Geography'].map({'France': 0, 'Germany': 1, 'Spain': 2})\n",
    "df['Gender'] = df['Gender'].map({'Female': 0, 'Male': 1})"
   ]
  },
  {
   "cell_type": "code",
   "execution_count": 7,
   "id": "6d0f781a-c4ef-4bf1-b023-30460f85b33a",
   "metadata": {},
   "outputs": [],
   "source": [
    "# Step 5: Split data into features (X) and target (y)\n",
    "# Features (X) are inputs like CreditScore, Age, etc.\n",
    "# Target (y) is what we predict: Exited (0 = stay, 1 = leave)\n",
    "X = df.drop('Exited', axis=1)  # All columns except Exited\n",
    "y = df['Exited']  # Only the Exited column\n",
    "\n",
    "# Step 6: Split data into training and testing sets\n",
    "# 80% for training, 20% for testing\n",
    "X_train, X_test, y_train, y_test = train_test_split(X, y, test_size=0.2, random_state=0)"
   ]
  },
  {
   "cell_type": "code",
   "execution_count": 8,
   "id": "cca53cd0-b8e1-4d13-ba9a-0e36c7f05c74",
   "metadata": {},
   "outputs": [],
   "source": [
    "# Step 7: Scale the features\n",
    "# Make all numbers similar in size (e.g., CreditScore and Balance have different ranges)\n",
    "scaler = StandardScaler()\n",
    "X_train = scaler.fit_transform(X_train)  # Learn scaling from training data and apply it\n",
    "X_test = scaler.transform(X_test)  # Apply same scaling to test data"
   ]
  },
  {
   "cell_type": "code",
   "execution_count": 9,
   "id": "d4fbb9b8-ddc2-4373-8610-9ac8dd154c98",
   "metadata": {},
   "outputs": [
    {
     "name": "stderr",
     "output_type": "stream",
     "text": [
      "/opt/homebrew/anaconda3/lib/python3.12/site-packages/keras/src/layers/core/dense.py:87: UserWarning: Do not pass an `input_shape`/`input_dim` argument to a layer. When using Sequential models, prefer using an `Input(shape)` object as the first layer in the model instead.\n",
      "  super().__init__(activity_regularizer=activity_regularizer, **kwargs)\n"
     ]
    }
   ],
   "source": [
    "# Step 8a: Instantiate the neural network\n",
    "# Create an empty neural network model (like setting up a blank brain)\n",
    "model = tf.keras.Sequential()\n",
    "\n",
    "# Step 8b: Initialize the neural network layers\n",
    "# Add layers to the model to process data and make predictions\n",
    "model.add(tf.keras.layers.Dense(6, activation='relu', input_shape=(10,)))  # First layer: 6 neurons, takes 10 inputs\n",
    "model.add(tf.keras.layers.Dense(6, activation='relu'))  # Second layer: 6 neurons\n",
    "model.add(tf.keras.layers.Dense(1, activation='sigmoid'))  # Output layer: 1 neuron for 0 or 1"
   ]
  },
  {
   "cell_type": "code",
   "execution_count": 15,
   "id": "69c8e49b-6153-4b13-91f2-0db612f5e776",
   "metadata": {},
   "outputs": [],
   "source": [
    "# Step 9: Compile the model\n",
    "# Tell the model how to learn and measure performance\n",
    "model.compile(optimizer='adam',  # Adam helps the model learn\n",
    "              loss='binary_crossentropy',  # Suitable for yes/no predictions\n",
    "              metrics=['accuracy'])  # Track how many predictions are correct\n"
   ]
  },
  {
   "cell_type": "code",
   "execution_count": 17,
   "id": "56dcd362-4845-4c64-8a2f-14f781b7b398",
   "metadata": {},
   "outputs": [
    {
     "name": "stdout",
     "output_type": "stream",
     "text": [
      "Epoch 1/50\n",
      "\u001b[1m250/250\u001b[0m \u001b[32m━━━━━━━━━━━━━━━━━━━━\u001b[0m\u001b[37m\u001b[0m \u001b[1m0s\u001b[0m 486us/step - accuracy: 0.5706 - loss: 0.7549 - val_accuracy: 0.8085 - val_loss: 0.4969\n",
      "Epoch 2/50\n",
      "\u001b[1m250/250\u001b[0m \u001b[32m━━━━━━━━━━━━━━━━━━━━\u001b[0m\u001b[37m\u001b[0m \u001b[1m0s\u001b[0m 308us/step - accuracy: 0.8040 - loss: 0.4851 - val_accuracy: 0.8160 - val_loss: 0.4414\n",
      "Epoch 3/50\n",
      "\u001b[1m250/250\u001b[0m \u001b[32m━━━━━━━━━━━━━━━━━━━━\u001b[0m\u001b[37m\u001b[0m \u001b[1m0s\u001b[0m 299us/step - accuracy: 0.8158 - loss: 0.4503 - val_accuracy: 0.8230 - val_loss: 0.4230\n",
      "Epoch 4/50\n",
      "\u001b[1m250/250\u001b[0m \u001b[32m━━━━━━━━━━━━━━━━━━━━\u001b[0m\u001b[37m\u001b[0m \u001b[1m0s\u001b[0m 300us/step - accuracy: 0.8221 - loss: 0.4269 - val_accuracy: 0.8290 - val_loss: 0.4150\n",
      "Epoch 5/50\n",
      "\u001b[1m250/250\u001b[0m \u001b[32m━━━━━━━━━━━━━━━━━━━━\u001b[0m\u001b[37m\u001b[0m \u001b[1m0s\u001b[0m 301us/step - accuracy: 0.8198 - loss: 0.4216 - val_accuracy: 0.8335 - val_loss: 0.4078\n",
      "Epoch 6/50\n",
      "\u001b[1m250/250\u001b[0m \u001b[32m━━━━━━━━━━━━━━━━━━━━\u001b[0m\u001b[37m\u001b[0m \u001b[1m0s\u001b[0m 301us/step - accuracy: 0.8275 - loss: 0.4066 - val_accuracy: 0.8385 - val_loss: 0.4014\n",
      "Epoch 7/50\n",
      "\u001b[1m250/250\u001b[0m \u001b[32m━━━━━━━━━━━━━━━━━━━━\u001b[0m\u001b[37m\u001b[0m \u001b[1m0s\u001b[0m 300us/step - accuracy: 0.8238 - loss: 0.4081 - val_accuracy: 0.8435 - val_loss: 0.3937\n",
      "Epoch 8/50\n",
      "\u001b[1m250/250\u001b[0m \u001b[32m━━━━━━━━━━━━━━━━━━━━\u001b[0m\u001b[37m\u001b[0m \u001b[1m0s\u001b[0m 299us/step - accuracy: 0.8336 - loss: 0.3995 - val_accuracy: 0.8440 - val_loss: 0.3850\n",
      "Epoch 9/50\n",
      "\u001b[1m250/250\u001b[0m \u001b[32m━━━━━━━━━━━━━━━━━━━━\u001b[0m\u001b[37m\u001b[0m \u001b[1m0s\u001b[0m 296us/step - accuracy: 0.8374 - loss: 0.3882 - val_accuracy: 0.8490 - val_loss: 0.3767\n",
      "Epoch 10/50\n",
      "\u001b[1m250/250\u001b[0m \u001b[32m━━━━━━━━━━━━━━━━━━━━\u001b[0m\u001b[37m\u001b[0m \u001b[1m0s\u001b[0m 301us/step - accuracy: 0.8428 - loss: 0.3766 - val_accuracy: 0.8505 - val_loss: 0.3685\n",
      "Epoch 11/50\n",
      "\u001b[1m250/250\u001b[0m \u001b[32m━━━━━━━━━━━━━━━━━━━━\u001b[0m\u001b[37m\u001b[0m \u001b[1m0s\u001b[0m 297us/step - accuracy: 0.8452 - loss: 0.3723 - val_accuracy: 0.8580 - val_loss: 0.3599\n",
      "Epoch 12/50\n",
      "\u001b[1m250/250\u001b[0m \u001b[32m━━━━━━━━━━━━━━━━━━━━\u001b[0m\u001b[37m\u001b[0m \u001b[1m0s\u001b[0m 298us/step - accuracy: 0.8470 - loss: 0.3704 - val_accuracy: 0.8595 - val_loss: 0.3546\n",
      "Epoch 13/50\n",
      "\u001b[1m250/250\u001b[0m \u001b[32m━━━━━━━━━━━━━━━━━━━━\u001b[0m\u001b[37m\u001b[0m \u001b[1m0s\u001b[0m 300us/step - accuracy: 0.8481 - loss: 0.3610 - val_accuracy: 0.8635 - val_loss: 0.3515\n",
      "Epoch 14/50\n",
      "\u001b[1m250/250\u001b[0m \u001b[32m━━━━━━━━━━━━━━━━━━━━\u001b[0m\u001b[37m\u001b[0m \u001b[1m0s\u001b[0m 299us/step - accuracy: 0.8521 - loss: 0.3565 - val_accuracy: 0.8660 - val_loss: 0.3493\n",
      "Epoch 15/50\n",
      "\u001b[1m250/250\u001b[0m \u001b[32m━━━━━━━━━━━━━━━━━━━━\u001b[0m\u001b[37m\u001b[0m \u001b[1m0s\u001b[0m 300us/step - accuracy: 0.8521 - loss: 0.3496 - val_accuracy: 0.8640 - val_loss: 0.3472\n",
      "Epoch 16/50\n",
      "\u001b[1m250/250\u001b[0m \u001b[32m━━━━━━━━━━━━━━━━━━━━\u001b[0m\u001b[37m\u001b[0m \u001b[1m0s\u001b[0m 299us/step - accuracy: 0.8543 - loss: 0.3527 - val_accuracy: 0.8630 - val_loss: 0.3464\n",
      "Epoch 17/50\n",
      "\u001b[1m250/250\u001b[0m \u001b[32m━━━━━━━━━━━━━━━━━━━━\u001b[0m\u001b[37m\u001b[0m \u001b[1m0s\u001b[0m 298us/step - accuracy: 0.8580 - loss: 0.3470 - val_accuracy: 0.8635 - val_loss: 0.3452\n",
      "Epoch 18/50\n",
      "\u001b[1m250/250\u001b[0m \u001b[32m━━━━━━━━━━━━━━━━━━━━\u001b[0m\u001b[37m\u001b[0m \u001b[1m0s\u001b[0m 299us/step - accuracy: 0.8544 - loss: 0.3519 - val_accuracy: 0.8605 - val_loss: 0.3490\n",
      "Epoch 19/50\n",
      "\u001b[1m250/250\u001b[0m \u001b[32m━━━━━━━━━━━━━━━━━━━━\u001b[0m\u001b[37m\u001b[0m \u001b[1m0s\u001b[0m 298us/step - accuracy: 0.8466 - loss: 0.3599 - val_accuracy: 0.8640 - val_loss: 0.3448\n",
      "Epoch 20/50\n",
      "\u001b[1m250/250\u001b[0m \u001b[32m━━━━━━━━━━━━━━━━━━━━\u001b[0m\u001b[37m\u001b[0m \u001b[1m0s\u001b[0m 299us/step - accuracy: 0.8524 - loss: 0.3504 - val_accuracy: 0.8620 - val_loss: 0.3452\n",
      "Epoch 21/50\n",
      "\u001b[1m250/250\u001b[0m \u001b[32m━━━━━━━━━━━━━━━━━━━━\u001b[0m\u001b[37m\u001b[0m \u001b[1m0s\u001b[0m 300us/step - accuracy: 0.8544 - loss: 0.3504 - val_accuracy: 0.8630 - val_loss: 0.3430\n",
      "Epoch 22/50\n",
      "\u001b[1m250/250\u001b[0m \u001b[32m━━━━━━━━━━━━━━━━━━━━\u001b[0m\u001b[37m\u001b[0m \u001b[1m0s\u001b[0m 298us/step - accuracy: 0.8519 - loss: 0.3529 - val_accuracy: 0.8625 - val_loss: 0.3425\n",
      "Epoch 23/50\n",
      "\u001b[1m250/250\u001b[0m \u001b[32m━━━━━━━━━━━━━━━━━━━━\u001b[0m\u001b[37m\u001b[0m \u001b[1m0s\u001b[0m 298us/step - accuracy: 0.8542 - loss: 0.3535 - val_accuracy: 0.8625 - val_loss: 0.3425\n",
      "Epoch 24/50\n",
      "\u001b[1m250/250\u001b[0m \u001b[32m━━━━━━━━━━━━━━━━━━━━\u001b[0m\u001b[37m\u001b[0m \u001b[1m0s\u001b[0m 298us/step - accuracy: 0.8521 - loss: 0.3528 - val_accuracy: 0.8655 - val_loss: 0.3419\n",
      "Epoch 25/50\n",
      "\u001b[1m250/250\u001b[0m \u001b[32m━━━━━━━━━━━━━━━━━━━━\u001b[0m\u001b[37m\u001b[0m \u001b[1m0s\u001b[0m 300us/step - accuracy: 0.8514 - loss: 0.3521 - val_accuracy: 0.8620 - val_loss: 0.3417\n",
      "Epoch 26/50\n",
      "\u001b[1m250/250\u001b[0m \u001b[32m━━━━━━━━━━━━━━━━━━━━\u001b[0m\u001b[37m\u001b[0m \u001b[1m0s\u001b[0m 301us/step - accuracy: 0.8558 - loss: 0.3457 - val_accuracy: 0.8655 - val_loss: 0.3403\n",
      "Epoch 27/50\n",
      "\u001b[1m250/250\u001b[0m \u001b[32m━━━━━━━━━━━━━━━━━━━━\u001b[0m\u001b[37m\u001b[0m \u001b[1m0s\u001b[0m 299us/step - accuracy: 0.8555 - loss: 0.3395 - val_accuracy: 0.8670 - val_loss: 0.3404\n",
      "Epoch 28/50\n",
      "\u001b[1m250/250\u001b[0m \u001b[32m━━━━━━━━━━━━━━━━━━━━\u001b[0m\u001b[37m\u001b[0m \u001b[1m0s\u001b[0m 300us/step - accuracy: 0.8649 - loss: 0.3319 - val_accuracy: 0.8645 - val_loss: 0.3402\n",
      "Epoch 29/50\n",
      "\u001b[1m250/250\u001b[0m \u001b[32m━━━━━━━━━━━━━━━━━━━━\u001b[0m\u001b[37m\u001b[0m \u001b[1m0s\u001b[0m 307us/step - accuracy: 0.8567 - loss: 0.3451 - val_accuracy: 0.8670 - val_loss: 0.3398\n",
      "Epoch 30/50\n",
      "\u001b[1m250/250\u001b[0m \u001b[32m━━━━━━━━━━━━━━━━━━━━\u001b[0m\u001b[37m\u001b[0m \u001b[1m0s\u001b[0m 302us/step - accuracy: 0.8583 - loss: 0.3505 - val_accuracy: 0.8640 - val_loss: 0.3404\n",
      "Epoch 31/50\n",
      "\u001b[1m250/250\u001b[0m \u001b[32m━━━━━━━━━━━━━━━━━━━━\u001b[0m\u001b[37m\u001b[0m \u001b[1m0s\u001b[0m 315us/step - accuracy: 0.8508 - loss: 0.3560 - val_accuracy: 0.8645 - val_loss: 0.3378\n",
      "Epoch 32/50\n",
      "\u001b[1m250/250\u001b[0m \u001b[32m━━━━━━━━━━━━━━━━━━━━\u001b[0m\u001b[37m\u001b[0m \u001b[1m0s\u001b[0m 307us/step - accuracy: 0.8595 - loss: 0.3471 - val_accuracy: 0.8640 - val_loss: 0.3387\n",
      "Epoch 33/50\n",
      "\u001b[1m250/250\u001b[0m \u001b[32m━━━━━━━━━━━━━━━━━━━━\u001b[0m\u001b[37m\u001b[0m \u001b[1m0s\u001b[0m 310us/step - accuracy: 0.8621 - loss: 0.3391 - val_accuracy: 0.8640 - val_loss: 0.3386\n",
      "Epoch 34/50\n",
      "\u001b[1m250/250\u001b[0m \u001b[32m━━━━━━━━━━━━━━━━━━━━\u001b[0m\u001b[37m\u001b[0m \u001b[1m0s\u001b[0m 313us/step - accuracy: 0.8587 - loss: 0.3485 - val_accuracy: 0.8680 - val_loss: 0.3371\n",
      "Epoch 35/50\n",
      "\u001b[1m250/250\u001b[0m \u001b[32m━━━━━━━━━━━━━━━━━━━━\u001b[0m\u001b[37m\u001b[0m \u001b[1m0s\u001b[0m 313us/step - accuracy: 0.8608 - loss: 0.3392 - val_accuracy: 0.8655 - val_loss: 0.3376\n",
      "Epoch 36/50\n",
      "\u001b[1m250/250\u001b[0m \u001b[32m━━━━━━━━━━━━━━━━━━━━\u001b[0m\u001b[37m\u001b[0m \u001b[1m0s\u001b[0m 310us/step - accuracy: 0.8620 - loss: 0.3369 - val_accuracy: 0.8665 - val_loss: 0.3370\n",
      "Epoch 37/50\n",
      "\u001b[1m250/250\u001b[0m \u001b[32m━━━━━━━━━━━━━━━━━━━━\u001b[0m\u001b[37m\u001b[0m \u001b[1m0s\u001b[0m 441us/step - accuracy: 0.8584 - loss: 0.3403 - val_accuracy: 0.8665 - val_loss: 0.3381\n",
      "Epoch 38/50\n",
      "\u001b[1m250/250\u001b[0m \u001b[32m━━━━━━━━━━━━━━━━━━━━\u001b[0m\u001b[37m\u001b[0m \u001b[1m0s\u001b[0m 322us/step - accuracy: 0.8620 - loss: 0.3418 - val_accuracy: 0.8650 - val_loss: 0.3372\n",
      "Epoch 39/50\n",
      "\u001b[1m250/250\u001b[0m \u001b[32m━━━━━━━━━━━━━━━━━━━━\u001b[0m\u001b[37m\u001b[0m \u001b[1m0s\u001b[0m 319us/step - accuracy: 0.8569 - loss: 0.3451 - val_accuracy: 0.8650 - val_loss: 0.3365\n",
      "Epoch 40/50\n",
      "\u001b[1m250/250\u001b[0m \u001b[32m━━━━━━━━━━━━━━━━━━━━\u001b[0m\u001b[37m\u001b[0m \u001b[1m0s\u001b[0m 311us/step - accuracy: 0.8594 - loss: 0.3424 - val_accuracy: 0.8635 - val_loss: 0.3369\n",
      "Epoch 41/50\n",
      "\u001b[1m250/250\u001b[0m \u001b[32m━━━━━━━━━━━━━━━━━━━━\u001b[0m\u001b[37m\u001b[0m \u001b[1m0s\u001b[0m 313us/step - accuracy: 0.8543 - loss: 0.3475 - val_accuracy: 0.8645 - val_loss: 0.3357\n",
      "Epoch 42/50\n",
      "\u001b[1m250/250\u001b[0m \u001b[32m━━━━━━━━━━━━━━━━━━━━\u001b[0m\u001b[37m\u001b[0m \u001b[1m0s\u001b[0m 312us/step - accuracy: 0.8621 - loss: 0.3379 - val_accuracy: 0.8635 - val_loss: 0.3365\n",
      "Epoch 43/50\n",
      "\u001b[1m250/250\u001b[0m \u001b[32m━━━━━━━━━━━━━━━━━━━━\u001b[0m\u001b[37m\u001b[0m \u001b[1m0s\u001b[0m 313us/step - accuracy: 0.8608 - loss: 0.3379 - val_accuracy: 0.8655 - val_loss: 0.3373\n",
      "Epoch 44/50\n",
      "\u001b[1m250/250\u001b[0m \u001b[32m━━━━━━━━━━━━━━━━━━━━\u001b[0m\u001b[37m\u001b[0m \u001b[1m0s\u001b[0m 314us/step - accuracy: 0.8605 - loss: 0.3391 - val_accuracy: 0.8645 - val_loss: 0.3372\n",
      "Epoch 45/50\n",
      "\u001b[1m250/250\u001b[0m \u001b[32m━━━━━━━━━━━━━━━━━━━━\u001b[0m\u001b[37m\u001b[0m \u001b[1m0s\u001b[0m 314us/step - accuracy: 0.8620 - loss: 0.3314 - val_accuracy: 0.8660 - val_loss: 0.3362\n",
      "Epoch 46/50\n",
      "\u001b[1m250/250\u001b[0m \u001b[32m━━━━━━━━━━━━━━━━━━━━\u001b[0m\u001b[37m\u001b[0m \u001b[1m0s\u001b[0m 312us/step - accuracy: 0.8592 - loss: 0.3436 - val_accuracy: 0.8670 - val_loss: 0.3360\n",
      "Epoch 47/50\n",
      "\u001b[1m250/250\u001b[0m \u001b[32m━━━━━━━━━━━━━━━━━━━━\u001b[0m\u001b[37m\u001b[0m \u001b[1m0s\u001b[0m 313us/step - accuracy: 0.8686 - loss: 0.3365 - val_accuracy: 0.8675 - val_loss: 0.3357\n",
      "Epoch 48/50\n",
      "\u001b[1m250/250\u001b[0m \u001b[32m━━━━━━━━━━━━━━━━━━━━\u001b[0m\u001b[37m\u001b[0m \u001b[1m0s\u001b[0m 310us/step - accuracy: 0.8556 - loss: 0.3464 - val_accuracy: 0.8670 - val_loss: 0.3356\n",
      "Epoch 49/50\n",
      "\u001b[1m250/250\u001b[0m \u001b[32m━━━━━━━━━━━━━━━━━━━━\u001b[0m\u001b[37m\u001b[0m \u001b[1m0s\u001b[0m 315us/step - accuracy: 0.8628 - loss: 0.3392 - val_accuracy: 0.8625 - val_loss: 0.3373\n",
      "Epoch 50/50\n",
      "\u001b[1m250/250\u001b[0m \u001b[32m━━━━━━━━━━━━━━━━━━━━\u001b[0m\u001b[37m\u001b[0m \u001b[1m0s\u001b[0m 310us/step - accuracy: 0.8681 - loss: 0.3265 - val_accuracy: 0.8670 - val_loss: 0.3349\n"
     ]
    }
   ],
   "source": [
    "# Step 10: Train the model\n",
    "# Let the model learn from the training data\n",
    "history = model.fit(X_train, y_train, epochs=50, batch_size=32, validation_data=(X_test, y_test))\n"
   ]
  },
  {
   "cell_type": "code",
   "execution_count": 19,
   "id": "2fabb1c4-6f9f-4433-9e54-1ca7e269f43a",
   "metadata": {},
   "outputs": [
    {
     "data": {
      "image/png": "[encoded data removed]",
      "text/plain": [
       "<Figure size 640x480 with 1 Axes>"
      ]
     },
     "metadata": {},
     "output_type": "display_data"
    },
    {
     "data": {
      "image/png": "[encoded data removed]",
      "text/plain": [
       "<Figure size 640x480 with 1 Axes>"
      ]
     },
     "metadata": {},
     "output_type": "display_data"
    }
   ],
   "source": [
    "# Step 11: Plot training results\n",
    "# Show how the model's error (loss) changes over time\n",
    "plt.plot(history.history['loss'], label='Training Loss')\n",
    "plt.plot(history.history['val_loss'], label='Validation Loss')\n",
    "plt.title('Model Loss')\n",
    "plt.xlabel('Epoch')\n",
    "plt.ylabel('Loss')\n",
    "plt.legend()\n",
    "# plt.savefig('loss_plot.png')  # Save the plot\n",
    "# plt.close()\n",
    "plt.show()\n",
    "\n",
    "# Plot how the model's accuracy changes\n",
    "plt.plot(history.history['accuracy'], label='Training Accuracy')\n",
    "plt.plot(history.history['val_accuracy'], label='Validation Accuracy')\n",
    "plt.title('Model Accuracy')\n",
    "plt.xlabel('Epoch')\n",
    "plt.ylabel('Accuracy')\n",
    "plt.legend()\n",
    "plt.show()\n",
    "# plt.savefig('accuracy_plot.png')  # Save the plot\n",
    "# plt.close()"
   ]
  },
  {
   "cell_type": "code",
   "execution_count": 21,
   "id": "e52aa33f-609c-49b7-87e2-b9bae62896ff",
   "metadata": {},
   "outputs": [
    {
     "name": "stdout",
     "output_type": "stream",
     "text": [
      "Enter customer details to predict if they will leave:\n"
     ]
    },
    {
     "name": "stdin",
     "output_type": "stream",
     "text": [
      "Credit Score (e.g., 600):  500\n",
      "Geography (0 for France, 1 for Germany, 2 for Spain):  1\n",
      "Gender (0 for Female, 1 for Male):  1\n",
      "Age (e.g., 40):  40\n",
      "Tenure (years with bank, e.g., 3):  2\n",
      "Balance (e.g., 60000):  5000\n",
      "Number of Products (e.g., 2):  1\n",
      "Has Credit Card (0 for No, 1 for Yes):  1\n",
      "Is Active Member (0 for No, 1 for Yes):  1\n",
      "Estimated Salary (e.g., 50000):  50000\n"
     ]
    },
    {
     "name": "stderr",
     "output_type": "stream",
     "text": [
      "/opt/homebrew/anaconda3/lib/python3.12/site-packages/sklearn/base.py:493: UserWarning: X does not have valid feature names, but StandardScaler was fitted with feature names\n",
      "  warnings.warn(\n"
     ]
    }
   ],
   "source": [
    "# Step 12: Predict for a new customer\n",
    "# Ask user for customer details\n",
    "print(\"Enter customer details to predict if they will leave:\")\n",
    "credit_score = float(input(\"Credit Score (e.g., 600): \"))\n",
    "geography = float(input(\"Geography (0 for France, 1 for Germany, 2 for Spain): \"))\n",
    "gender = float(input(\"Gender (0 for Female, 1 for Male): \"))\n",
    "age = float(input(\"Age (e.g., 40): \"))\n",
    "tenure = float(input(\"Tenure (years with bank, e.g., 3): \"))\n",
    "balance = float(input(\"Balance (e.g., 60000): \"))\n",
    "num_products = float(input(\"Number of Products (e.g., 2): \"))\n",
    "has_cr_card = float(input(\"Has Credit Card (0 for No, 1 for Yes): \"))\n",
    "is_active = float(input(\"Is Active Member (0 for No, 1 for Yes): \"))\n",
    "salary = float(input(\"Estimated Salary (e.g., 50000): \"))\n",
    "\n",
    "# Create an array with the input data\n",
    "user_input = np.array([[credit_score, geography, gender, age, tenure, balance,\n",
    "                        num_products, has_cr_card, is_active, salary]])\n",
    "\n",
    "# Scale the input data to match training data\n",
    "user_input_scaled = scaler.transform(user_input)"
   ]
  },
  {
   "cell_type": "code",
   "execution_count": 23,
   "id": "b2630185-3148-4e06-b5e1-693905b8131b",
   "metadata": {},
   "outputs": [
    {
     "name": "stdout",
     "output_type": "stream",
     "text": [
      "\u001b[1m1/1\u001b[0m \u001b[32m━━━━━━━━━━━━━━━━━━━━\u001b[0m\u001b[37m\u001b[0m \u001b[1m0s\u001b[0m 26ms/step\n",
      "Prediction: The customer will likely stay\n",
      "The model says there's a 38.3% chance the customer will leave. Since this is under 50%, they are likely to stay.\n"
     ]
    }
   ],
   "source": [
    "# Make prediction (model gives a number between 0 and 1)\n",
    "prediction = model.predict(user_input_scaled)\n",
    "\n",
    "# Explain the prediction: above 0.5 means likely to leave, below means likely to stay\n",
    "chance = prediction[0][0]  # Get the model's output (a number showing likelihood of leaving)\n",
    "if chance > 0.5:\n",
    "    result = \"will likely leave\"\n",
    "    explanation = f\"The model says there's a {chance*100:.1f}% chance the customer will leave. Since this is over 50%, they are likely to leave.\"\n",
    "else:\n",
    "    result = \"will likely stay\"\n",
    "    explanation = f\"The model says there's a {chance*100:.1f}% chance the customer will leave. Since this is under 50%, they are likely to stay.\"\n",
    "\n",
    "# Show the result\n",
    "print(f\"Prediction: The customer {result}\")\n",
    "print(explanation)"
   ]
  },
  {
   "cell_type": "markdown",
   "id": "a9fc5a74-2d23-44e4-90e2-6f6e10bed01f",
   "metadata": {},
   "source": [
    "Additional Layering Techniques:\n",
    "Batch Normalization:\n",
    "What it is: Normalizes activations of each layer to have a mean of 0 and standard deviation of 1, reducing the internal covariate shift and speeding up training.\n",
    "\n",
    "When to use: When the model is very deep and the training is unstable or slow.\n",
    "\n",
    "Dropout Layer:\n",
    "What it is: Randomly drops a fraction of neurons during training to prevent overfitting.\n",
    "\n",
    "When to use: When you want to reduce overfitting, especially in deep networks."
   ]
  },
  {
   "cell_type": "code",
   "execution_count": 26,
   "id": "bdd304fc-3f15-484c-9f01-7de0a3c4e5ed",
   "metadata": {},
   "outputs": [
    {
     "data": {
      "text/plain": [
       "\"\\n# Step 8b: Initialize the neural network layers\\n# Add layers to process data, including batch normalization and dropout to improve learning\\nmodel.add(tf.keras.layers.Dense(6, activation='relu', input_shape=(10,)))  # First layer: 6 neurons, takes 10 inputs\\nmodel.add(tf.keras.layers.BatchNormalization())  # Normalize data to make training stable\\nmodel.add(tf.keras.layers.Dropout(0.2))  # Randomly ignore 20% of neurons to prevent overfitting\\nmodel.add(tf.keras.layers.Dense(6, activation='relu'))  # Second layer: 6 neurons\\nmodel.add(tf.keras.layers.BatchNormalization())  # Normalize again for stability\\nmodel.add(tf.keras.layers.Dropout(0.2))  # Ignore 20% of neurons again\\nmodel.add(tf.keras.layers.Dense(1, activation='sigmoid'))  # Output layer: 1 neuron for 0 or 1\\n\""
      ]
     },
     "execution_count": 26,
     "metadata": {},
     "output_type": "execute_result"
    }
   ],
   "source": [
    "\"\"\"\n",
    "# Step 8b: Initialize the neural network layers\n",
    "# Add layers to process data, including batch normalization and dropout to improve learning\n",
    "model.add(tf.keras.layers.Dense(6, activation='relu', input_shape=(10,)))  # First layer: 6 neurons, takes 10 inputs\n",
    "model.add(tf.keras.layers.BatchNormalization())  # Normalize data to make training stable\n",
    "model.add(tf.keras.layers.Dropout(0.2))  # Randomly ignore 20% of neurons to prevent overfitting\n",
    "model.add(tf.keras.layers.Dense(6, activation='relu'))  # Second layer: 6 neurons\n",
    "model.add(tf.keras.layers.BatchNormalization())  # Normalize again for stability\n",
    "model.add(tf.keras.layers.Dropout(0.2))  # Ignore 20% of neurons again\n",
    "model.add(tf.keras.layers.Dense(1, activation='sigmoid'))  # Output layer: 1 neuron for 0 or 1\n",
    "\"\"\""
   ]
  },
  {
   "cell_type": "code",
   "execution_count": 28,
   "id": "2a8a037d-3195-4f1e-85c5-29cdd1caea86",
   "metadata": {},
   "outputs": [],
   "source": [
    "# pip install pydot"
   ]
  },
  {
   "cell_type": "code",
   "execution_count": 30,
   "id": "732756fb-5ec4-4bb9-a734-d3465881be3f",
   "metadata": {},
   "outputs": [],
   "source": [
    "# pip install graphviz"
   ]
  },
  {
   "cell_type": "code",
   "execution_count": 32,
   "id": "4170fb76-06e3-4dd7-8052-04333249f73c",
   "metadata": {},
   "outputs": [
    {
     "name": "stdout",
     "output_type": "stream",
     "text": [
      "You must install graphviz (see instructions at https://graphviz.gitlab.io/download/) for `plot_model` to work.\n"
     ]
    }
   ],
   "source": [
    "# Step 9: Visualize the neural network\n",
    "# Save a picture of the model to see its structure\n",
    "\n",
    "from tensorflow.keras.utils import plot_model  # To visualize the neural network\n",
    "plot_model(model, to_file='model_plot.png', show_shapes=True, show_layer_names=True)\n",
    "# Add this after Step 8b to visualize the neural network in the notebook"
   ]
  },
  {
   "cell_type": "code",
   "execution_count": 34,
   "id": "303615a6-f3c9-4f3c-bf00-544beb91b062",
   "metadata": {},
   "outputs": [],
   "source": [
    "# pip install graphviz"
   ]
  },
  {
   "cell_type": "markdown",
   "id": "4d5d39a9-8120-421f-b861-9609d46bd91b",
   "metadata": {},
   "source": [
    "1. Why is Batch Normalization Needed When We Already Use StandardScaler?\n",
    "Answer: Batch Normalization Clarification:\n",
    "StandardScaler is a preprocessing step for inputs; batch normalization is an internal mechanism for layers. Both are complementary, not redundant.\n",
    "In our code, batch normalization after each hidden layer stabilizes training for the churn dataset, but you could experiment with fewer (e.g., only after the first Dense layer) for simpler models."
   ]
  },
  {
   "cell_type": "markdown",
   "id": "64164dc8-2aec-454b-8f70-dcc0adf589b1",
   "metadata": {},
   "source": [
    "2. Do We Have to Batch Normalize After Creating Each Layer? What’s the Logic, When to Normalize, and the Concept?\n",
    "\n",
    "Concept of Batch Normalization:\n",
    "\n",
    "What It Does: \n",
    "\n",
    "For each mini-batch, batch normalization standardizes the output of a layer (mean = 0, standard deviation = 1) and then applies a learnable scale and shift (parameters gamma and beta). This ensures consistent inputs to the next layer.\n",
    "\n",
    "Purpose:\n",
    "Stabilizes Learning: Prevents large swings in layer outputs, making training faster and more reliable.\n",
    "Reduces Sensitivity: Makes the model less dependent on initial weights or learning rates.\n",
    "Regularization Effect: Slightly reduces overfitting by adding noise during training (similar to dropout).\n",
    "Analogy: It’s like a teacher adjusting lessons to match students’ understanding, ensuring each step is clear before moving on.\n",
    "\n",
    "Do We Normalize After Each Layer?:\n",
    "\n",
    "Not Always Necessary: You don’t have to add batch normalization after every layer. It’s a design choice based on the model and problem.\n",
    "Common Practice:\n",
    "In our code, we added batch normalization after each hidden layer (Dense layers with 6 neurons)"
   ]
  },
  {
   "cell_type": "markdown",
   "id": "23e96460-840c-4bc1-8714-4a5717fdaa42",
   "metadata": {},
   "source": [
    "In the context of the ChurnModellingANN neural network code, where we used batch normalization to stabilize training, you’ve asked about beta and gamma and what it means when batch normalization “shifts” them. I’ll explain these terms clearly and concisely for a beginner, tying them to our churn prediction model, and address how they are used in batch normalization. Since you’ve specifically asked about beta and gamma, I’ll focus on their role without repeating the full code or unrelated details.\n",
    "\n",
    "What are Beta and Gamma in Batch Normalization?\n",
    "Batch Normalization Overview:\n",
    "\n",
    "In our code, we added batch normalization layers after the hidden Dense layers:\n",
    "pythonCopymodel.add(tf.keras.layers.BatchNormalization())  # Normalize data to make training stable\n",
    "\n",
    "Batch normalization standardizes the output of a layer (e.g., the 6 neurons’ outputs) for each mini-batch (32 data points in our case) to have a mean of 0 and a standard deviation of 1. Then, it applies a scale and shift to these normalized values using gamma and beta, respectively.\n",
    "Purpose: This ensures the layer’s outputs are stable and consistent, helping the neural network learn faster and perform better for churn prediction.\n",
    "\n",
    "Beta and Gamma Explained:\n",
    "\n",
    "Gamma (γ):\n",
    "\n",
    "What it is: A learnable parameter that scales (stretches or shrinks) the normalized output.\n",
    "Role: After batch normalization makes the output have a standard deviation of 1, gamma decides how much to amplify or reduce this spread. For example, if gamma = 2, the output’s spread doubles; if gamma = 0.5, it halves.\n",
    "Why needed: Different layers may need outputs with different scales to learn effectively. Gamma gives the model flexibility to adjust the normalized data to what’s best for predicting churn.\n",
    "In our code: For each of the 6 neurons in a hidden layer, gamma is a number that the model learns during training to scale their normalized outputs.\n",
    "\n",
    "\n",
    "Beta (β):\n",
    "\n",
    "What it is: A learnable parameter that shifts (moves up or down) the normalized output.\n",
    "Role: After normalization sets the mean to 0, beta adds or subtracts a value to shift the mean to a new position. For example, if beta = 3, the output’s mean becomes 3; if beta = -1, it becomes -1.\n",
    "Why needed: Shifting allows the model to position the output in a range that’s useful for the next layer. This is crucial for learning patterns in the churn dataset (e.g., whether a customer will leave).\n",
    "In our code: For each of the 6 neurons, beta is a number learned during training to shift their normalized outputs.\n",
    "\n",
    "\n",
    "Learn: During training (via model.fit()), the model adjusts gamma and beta using backpropagation to minimize the loss (binary cross-entropy in our case), just like it adjusts weights in Dense layers."
   ]
  },
  {
   "cell_type": "code",
   "execution_count": 39,
   "id": "1371d8e2-41b6-442c-89b8-14e2f5b9a702",
   "metadata": {},
   "outputs": [
    {
     "ename": "SyntaxError",
     "evalue": "invalid syntax (2618269579.py, line 1)",
     "output_type": "error",
     "traceback": [
      "\u001b[0;36m  Cell \u001b[0;32mIn[39], line 1\u001b[0;36m\u001b[0m\n\u001b[0;31m    jupyter nbconvert --to pdf notebook_name.ipynb\u001b[0m\n\u001b[0m            ^\u001b[0m\n\u001b[0;31mSyntaxError\u001b[0m\u001b[0;31m:\u001b[0m invalid syntax\n"
     ]
    }
   ],
   "source": [
    "jupyter nbconvert --to pdf notebook_name.ipynb"
   ]
  },
  {
   "cell_type": "code",
   "execution_count": null,
   "id": "6f8316b5-8eab-4910-82e5-d5cdd3479684",
   "metadata": {},
   "outputs": [],
   "source": []
  }
 ],
 "metadata": {
  "kernelspec": {
   "display_name": "Python [conda env:anaconda3] *",
   "language": "python",
   "name": "conda-env-anaconda3-py"
  },
  "language_info": {
   "codemirror_mode": {
    "name": "ipython",
    "version": 3
   },
   "file_extension": ".py",
   "mimetype": "text/x-python",
   "name": "python",
   "nbconvert_exporter": "python",
   "pygments_lexer": "ipython3",
   "version": "3.12.7"
  }
 },
 "nbformat": 4,
 "nbformat_minor": 5
}
